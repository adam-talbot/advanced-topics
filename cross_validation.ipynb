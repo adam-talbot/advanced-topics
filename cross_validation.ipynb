{
 "cells": [
  {
   "cell_type": "markdown",
   "id": "0470ea60-3c65-4771-8a99-c3d93a71033c",
   "metadata": {},
   "source": [
    "---\n",
    "# Cross Validation Exercises\n",
    "---"
   ]
  },
  {
   "cell_type": "code",
   "execution_count": 29,
   "id": "281b933e-8922-4433-b610-63eaf7e5401f",
   "metadata": {},
   "outputs": [],
   "source": [
    "import numpy as np\n",
    "import pandas as pd\n",
    "import matplotlib.pyplot as plt\n",
    "from pydataset import data\n",
    "\n",
    "from sklearn.model_selection import cross_val_score, GridSearchCV, train_test_split, cross_validate\n",
    "from sklearn.tree import DecisionTreeClassifier\n",
    "from sklearn.ensemble import RandomForestClassifier\n",
    "from sklearn.neighbors import KNeighborsClassifier\n",
    "from sklearn.linear_model import LogisticRegression\n",
    "\n",
    "# no yelling in the library\n",
    "import warnings\n",
    "warnings.filterwarnings(\"ignore\")"
   ]
  },
  {
   "cell_type": "markdown",
   "id": "0123a57c-2135-402f-902c-6140ff9ceef2",
   "metadata": {},
   "source": [
    "---\n",
    "## `mpg`"
   ]
  },
  {
   "cell_type": "markdown",
   "id": "cb21a20d-7de0-4297-8ed7-d0700386dc00",
   "metadata": {},
   "source": [
    "Use the cross validation techniques described in the lesson to find the best model for predicting transmission type with the mpg dataset."
   ]
  },
  {
   "cell_type": "code",
   "execution_count": 30,
   "id": "6fcf4e02-431f-47ca-8f96-1401697d0771",
   "metadata": {},
   "outputs": [],
   "source": [
    "# get the data\n",
    "mpg = data('mpg')\n",
    "mpg.trans = np.where(mpg.trans.str.startswith('auto'), 'auto', 'manual')"
   ]
  },
  {
   "cell_type": "code",
   "execution_count": 31,
   "id": "288c2083-88bd-4e8d-b89c-63db8c52ee76",
   "metadata": {},
   "outputs": [],
   "source": [
    "# create X and y\n",
    "X, y = mpg[['displ', 'cyl', 'cty', 'hwy']], mpg.trans"
   ]
  },
  {
   "cell_type": "code",
   "execution_count": 32,
   "id": "fdc7ea5c-3dbe-41dc-93b2-902b67c275bb",
   "metadata": {},
   "outputs": [],
   "source": [
    "# split the data into train and test (no validate needed here due to use of K-Fold Cross Validation)\n",
    "X_train, X_test, y_train, y_test = train_test_split(X, y, random_state=527)"
   ]
  },
  {
   "cell_type": "markdown",
   "id": "386897b5-d12a-4716-846c-e42284f537be",
   "metadata": {},
   "source": [
    "### DT"
   ]
  },
  {
   "cell_type": "code",
   "execution_count": 36,
   "id": "5323c9dd-8eb9-4c17-98a9-e31a418070af",
   "metadata": {},
   "outputs": [
    {
     "data": {
      "text/plain": [
       "GridSearchCV(cv=10, estimator=DecisionTreeClassifier(random_state=527),\n",
       "             param_grid={'max_depth': range(1, 21),\n",
       "                         'min_samples_leaf': range(1, 11),\n",
       "                         'min_samples_split': range(1, 11)})"
      ]
     },
     "execution_count": 36,
     "metadata": {},
     "output_type": "execute_result"
    }
   ],
   "source": [
    "# Grid Search\n",
    "dt = DecisionTreeClassifier(random_state=527)\n",
    "grid = GridSearchCV(dt, {'max_depth': range(1, 21), 'min_samples_split': range(1, 11), 'min_samples_leaf': range(1, 11)}, cv=10)\n",
    "grid.fit(X_train, y_train)"
   ]
  },
  {
   "cell_type": "code",
   "execution_count": 42,
   "id": "597d275d-a996-4a9c-acdf-9c6014829cef",
   "metadata": {},
   "outputs": [
    {
     "data": {
      "text/html": [
       "<div>\n",
       "<style scoped>\n",
       "    .dataframe tbody tr th:only-of-type {\n",
       "        vertical-align: middle;\n",
       "    }\n",
       "\n",
       "    .dataframe tbody tr th {\n",
       "        vertical-align: top;\n",
       "    }\n",
       "\n",
       "    .dataframe thead th {\n",
       "        text-align: right;\n",
       "    }\n",
       "</style>\n",
       "<table border=\"1\" class=\"dataframe\">\n",
       "  <thead>\n",
       "    <tr style=\"text-align: right;\">\n",
       "      <th></th>\n",
       "      <th>max_depth</th>\n",
       "      <th>min_samples_leaf</th>\n",
       "      <th>min_samples_split</th>\n",
       "      <th>score</th>\n",
       "    </tr>\n",
       "  </thead>\n",
       "  <tbody>\n",
       "    <tr>\n",
       "      <th>801</th>\n",
       "      <td>9</td>\n",
       "      <td>1</td>\n",
       "      <td>2</td>\n",
       "      <td>0.709804</td>\n",
       "    </tr>\n",
       "    <tr>\n",
       "      <th>802</th>\n",
       "      <td>9</td>\n",
       "      <td>1</td>\n",
       "      <td>3</td>\n",
       "      <td>0.709150</td>\n",
       "    </tr>\n",
       "    <tr>\n",
       "      <th>1801</th>\n",
       "      <td>19</td>\n",
       "      <td>1</td>\n",
       "      <td>2</td>\n",
       "      <td>0.698693</td>\n",
       "    </tr>\n",
       "    <tr>\n",
       "      <th>1601</th>\n",
       "      <td>17</td>\n",
       "      <td>1</td>\n",
       "      <td>2</td>\n",
       "      <td>0.698693</td>\n",
       "    </tr>\n",
       "    <tr>\n",
       "      <th>1301</th>\n",
       "      <td>14</td>\n",
       "      <td>1</td>\n",
       "      <td>2</td>\n",
       "      <td>0.698693</td>\n",
       "    </tr>\n",
       "  </tbody>\n",
       "</table>\n",
       "</div>"
      ],
      "text/plain": [
       "      max_depth  min_samples_leaf  min_samples_split     score\n",
       "801           9                 1                  2  0.709804\n",
       "802           9                 1                  3  0.709150\n",
       "1801         19                 1                  2  0.698693\n",
       "1601         17                 1                  2  0.698693\n",
       "1301         14                 1                  2  0.698693"
      ]
     },
     "execution_count": 42,
     "metadata": {},
     "output_type": "execute_result"
    }
   ],
   "source": [
    "results = pd.DataFrame(grid.cv_results_['params'])\n",
    "results['score'] = grid.cv_results_['mean_test_score']\n",
    "results.sort_values(by='score', ascending=False).head(5)"
   ]
  },
  {
   "cell_type": "code",
   "execution_count": 41,
   "id": "05debb43-b88b-4952-86a7-434cbe094c77",
   "metadata": {},
   "outputs": [
    {
     "data": {
      "text/plain": [
       "0.6440677966101694"
      ]
     },
     "execution_count": 41,
     "metadata": {},
     "output_type": "execute_result"
    }
   ],
   "source": [
    "best_dt = grid.best_estimator_\n",
    "best_dt.fit(X_train, y_train)\n",
    "best_dt.score(X_test, y_test)"
   ]
  },
  {
   "cell_type": "markdown",
   "id": "f8e1dd84-8889-4ff2-a630-c8e513fecb73",
   "metadata": {},
   "source": [
    "### RF"
   ]
  },
  {
   "cell_type": "code",
   "execution_count": 46,
   "id": "3ec4b6b0-093f-4e53-9f70-a567cb7c9562",
   "metadata": {},
   "outputs": [
    {
     "data": {
      "text/plain": [
       "GridSearchCV(cv=10, estimator=RandomForestClassifier(random_state=527),\n",
       "             param_grid={'max_depth': range(1, 21)})"
      ]
     },
     "execution_count": 46,
     "metadata": {},
     "output_type": "execute_result"
    }
   ],
   "source": [
    "# Grid Search\n",
    "rf = RandomForestClassifier(random_state=527)\n",
    "grid = GridSearchCV(rf, {'max_depth': range(1, 21)}, cv=10)\n",
    "grid.fit(X_train, y_train)"
   ]
  },
  {
   "cell_type": "code",
   "execution_count": 47,
   "id": "00960d80-ae8a-4572-910d-3e37d46e46f8",
   "metadata": {},
   "outputs": [
    {
     "data": {
      "text/html": [
       "<div>\n",
       "<style scoped>\n",
       "    .dataframe tbody tr th:only-of-type {\n",
       "        vertical-align: middle;\n",
       "    }\n",
       "\n",
       "    .dataframe tbody tr th {\n",
       "        vertical-align: top;\n",
       "    }\n",
       "\n",
       "    .dataframe thead th {\n",
       "        text-align: right;\n",
       "    }\n",
       "</style>\n",
       "<table border=\"1\" class=\"dataframe\">\n",
       "  <thead>\n",
       "    <tr style=\"text-align: right;\">\n",
       "      <th></th>\n",
       "      <th>max_depth</th>\n",
       "      <th>score</th>\n",
       "    </tr>\n",
       "  </thead>\n",
       "  <tbody>\n",
       "    <tr>\n",
       "      <th>9</th>\n",
       "      <td>10</td>\n",
       "      <td>0.716013</td>\n",
       "    </tr>\n",
       "    <tr>\n",
       "      <th>12</th>\n",
       "      <td>13</td>\n",
       "      <td>0.710131</td>\n",
       "    </tr>\n",
       "    <tr>\n",
       "      <th>11</th>\n",
       "      <td>12</td>\n",
       "      <td>0.704575</td>\n",
       "    </tr>\n",
       "    <tr>\n",
       "      <th>8</th>\n",
       "      <td>9</td>\n",
       "      <td>0.699020</td>\n",
       "    </tr>\n",
       "    <tr>\n",
       "      <th>10</th>\n",
       "      <td>11</td>\n",
       "      <td>0.698693</td>\n",
       "    </tr>\n",
       "  </tbody>\n",
       "</table>\n",
       "</div>"
      ],
      "text/plain": [
       "    max_depth     score\n",
       "9          10  0.716013\n",
       "12         13  0.710131\n",
       "11         12  0.704575\n",
       "8           9  0.699020\n",
       "10         11  0.698693"
      ]
     },
     "execution_count": 47,
     "metadata": {},
     "output_type": "execute_result"
    }
   ],
   "source": [
    "results = pd.DataFrame(grid.cv_results_['params'])\n",
    "results['score'] = grid.cv_results_['mean_test_score']\n",
    "results.sort_values(by='score', ascending=False).head(5)"
   ]
  },
  {
   "cell_type": "code",
   "execution_count": 48,
   "id": "f3e518b0-dde0-42a9-803b-d6f505678841",
   "metadata": {},
   "outputs": [
    {
     "data": {
      "text/plain": [
       "0.6949152542372882"
      ]
     },
     "execution_count": 48,
     "metadata": {},
     "output_type": "execute_result"
    }
   ],
   "source": [
    "best_clf = grid.best_estimator_\n",
    "best_clf.fit(X_train, y_train)\n",
    "best_clf.score(X_test, y_test)"
   ]
  },
  {
   "cell_type": "markdown",
   "id": "696f25ef-4b14-4b47-a236-f5223d33233f",
   "metadata": {},
   "source": [
    "### KNN"
   ]
  },
  {
   "cell_type": "code",
   "execution_count": 60,
   "id": "e9921618-569a-464d-9ea3-4e85b8a74b02",
   "metadata": {},
   "outputs": [
    {
     "data": {
      "text/html": [
       "<div>\n",
       "<style scoped>\n",
       "    .dataframe tbody tr th:only-of-type {\n",
       "        vertical-align: middle;\n",
       "    }\n",
       "\n",
       "    .dataframe tbody tr th {\n",
       "        vertical-align: top;\n",
       "    }\n",
       "\n",
       "    .dataframe thead th {\n",
       "        text-align: right;\n",
       "    }\n",
       "</style>\n",
       "<table border=\"1\" class=\"dataframe\">\n",
       "  <thead>\n",
       "    <tr style=\"text-align: right;\">\n",
       "      <th></th>\n",
       "      <th>n_neighbors</th>\n",
       "      <th>score</th>\n",
       "    </tr>\n",
       "  </thead>\n",
       "  <tbody>\n",
       "    <tr>\n",
       "      <th>17</th>\n",
       "      <td>18</td>\n",
       "      <td>0.702857</td>\n",
       "    </tr>\n",
       "    <tr>\n",
       "      <th>11</th>\n",
       "      <td>12</td>\n",
       "      <td>0.697143</td>\n",
       "    </tr>\n",
       "    <tr>\n",
       "      <th>13</th>\n",
       "      <td>14</td>\n",
       "      <td>0.697143</td>\n",
       "    </tr>\n",
       "    <tr>\n",
       "      <th>7</th>\n",
       "      <td>8</td>\n",
       "      <td>0.691429</td>\n",
       "    </tr>\n",
       "    <tr>\n",
       "      <th>14</th>\n",
       "      <td>15</td>\n",
       "      <td>0.691429</td>\n",
       "    </tr>\n",
       "  </tbody>\n",
       "</table>\n",
       "</div>"
      ],
      "text/plain": [
       "    n_neighbors     score\n",
       "17           18  0.702857\n",
       "11           12  0.697143\n",
       "13           14  0.697143\n",
       "7             8  0.691429\n",
       "14           15  0.691429"
      ]
     },
     "execution_count": 60,
     "metadata": {},
     "output_type": "execute_result"
    }
   ],
   "source": [
    "# Grid Search\n",
    "clf = KNeighborsClassifier()\n",
    "grid = GridSearchCV(clf, {'n_neighbors': range(1, 21)}, cv=5)\n",
    "grid.fit(X_train, y_train)\n",
    "results = pd.DataFrame(grid.cv_results_['params'])\n",
    "results['score'] = grid.cv_results_['mean_test_score']\n",
    "results.sort_values(by='score', ascending=False).head(5)"
   ]
  },
  {
   "cell_type": "code",
   "execution_count": 61,
   "id": "16f0e39a-8a9f-4133-91e6-25d4183d3d0b",
   "metadata": {},
   "outputs": [
    {
     "data": {
      "text/plain": [
       "0.6949152542372882"
      ]
     },
     "execution_count": 61,
     "metadata": {},
     "output_type": "execute_result"
    }
   ],
   "source": [
    "best_clf = grid.best_estimator_\n",
    "best_clf.fit(X_train, y_train)\n",
    "best_clf.score(X_test, y_test)"
   ]
  },
  {
   "cell_type": "markdown",
   "id": "98efe460-9e0d-4e10-b27d-f4d63613114b",
   "metadata": {},
   "source": [
    "### LR"
   ]
  },
  {
   "cell_type": "code",
   "execution_count": 56,
   "id": "cb2d3967-2ff9-40f3-ab42-d71c80e942c7",
   "metadata": {},
   "outputs": [
    {
     "data": {
      "text/html": [
       "<div>\n",
       "<style scoped>\n",
       "    .dataframe tbody tr th:only-of-type {\n",
       "        vertical-align: middle;\n",
       "    }\n",
       "\n",
       "    .dataframe tbody tr th {\n",
       "        vertical-align: top;\n",
       "    }\n",
       "\n",
       "    .dataframe thead th {\n",
       "        text-align: right;\n",
       "    }\n",
       "</style>\n",
       "<table border=\"1\" class=\"dataframe\">\n",
       "  <thead>\n",
       "    <tr style=\"text-align: right;\">\n",
       "      <th></th>\n",
       "      <th>C</th>\n",
       "      <th>score</th>\n",
       "    </tr>\n",
       "  </thead>\n",
       "  <tbody>\n",
       "    <tr>\n",
       "      <th>49</th>\n",
       "      <td>5.0</td>\n",
       "      <td>0.647059</td>\n",
       "    </tr>\n",
       "    <tr>\n",
       "      <th>74</th>\n",
       "      <td>7.5</td>\n",
       "      <td>0.647059</td>\n",
       "    </tr>\n",
       "    <tr>\n",
       "      <th>72</th>\n",
       "      <td>7.3</td>\n",
       "      <td>0.647059</td>\n",
       "    </tr>\n",
       "    <tr>\n",
       "      <th>71</th>\n",
       "      <td>7.2</td>\n",
       "      <td>0.647059</td>\n",
       "    </tr>\n",
       "    <tr>\n",
       "      <th>70</th>\n",
       "      <td>7.1</td>\n",
       "      <td>0.647059</td>\n",
       "    </tr>\n",
       "  </tbody>\n",
       "</table>\n",
       "</div>"
      ],
      "text/plain": [
       "      C     score\n",
       "49  5.0  0.647059\n",
       "74  7.5  0.647059\n",
       "72  7.3  0.647059\n",
       "71  7.2  0.647059\n",
       "70  7.1  0.647059"
      ]
     },
     "execution_count": 56,
     "metadata": {},
     "output_type": "execute_result"
    }
   ],
   "source": [
    "# Grid Search\n",
    "clf = LogisticRegression()\n",
    "grid = GridSearchCV(clf, {'C': np.arange(0.1, 10, 0.1)}, cv=10)\n",
    "grid.fit(X_train, y_train)\n",
    "results = pd.DataFrame(grid.cv_results_['params'])\n",
    "results['score'] = grid.cv_results_['mean_test_score']\n",
    "results.sort_values(by='score', ascending=False).head(5)"
   ]
  },
  {
   "cell_type": "code",
   "execution_count": 59,
   "id": "bad44d3e-2676-4fb9-9afc-d38b9dd798c0",
   "metadata": {},
   "outputs": [
    {
     "data": {
      "text/plain": [
       "0.6440677966101694"
      ]
     },
     "execution_count": 59,
     "metadata": {},
     "output_type": "execute_result"
    }
   ],
   "source": [
    "best_clf = grid.best_estimator_\n",
    "best_clf.fit(X_train, y_train)\n",
    "best_clf.score(X_test, y_test)"
   ]
  },
  {
   "cell_type": "markdown",
   "id": "9a302c54-88b0-43ac-b061-42bf5cc0fad7",
   "metadata": {},
   "source": [
    "---\n",
    "## `titanic`"
   ]
  },
  {
   "cell_type": "markdown",
   "id": "9bf2dc29-c905-4471-9bee-c1bb46c81427",
   "metadata": {},
   "source": [
    "Use cross validation techniques to determine the best model for predicting survival with the titanic dataset."
   ]
  },
  {
   "cell_type": "code",
   "execution_count": 63,
   "id": "d5fe1707-c25a-453b-bf32-6d0469609b57",
   "metadata": {},
   "outputs": [
    {
     "data": {
      "text/html": [
       "<div>\n",
       "<style scoped>\n",
       "    .dataframe tbody tr th:only-of-type {\n",
       "        vertical-align: middle;\n",
       "    }\n",
       "\n",
       "    .dataframe tbody tr th {\n",
       "        vertical-align: top;\n",
       "    }\n",
       "\n",
       "    .dataframe thead th {\n",
       "        text-align: right;\n",
       "    }\n",
       "</style>\n",
       "<table border=\"1\" class=\"dataframe\">\n",
       "  <thead>\n",
       "    <tr style=\"text-align: right;\">\n",
       "      <th></th>\n",
       "      <th>class</th>\n",
       "      <th>age</th>\n",
       "      <th>sex</th>\n",
       "      <th>survived</th>\n",
       "    </tr>\n",
       "  </thead>\n",
       "  <tbody>\n",
       "    <tr>\n",
       "      <th>1</th>\n",
       "      <td>1st class</td>\n",
       "      <td>adults</td>\n",
       "      <td>man</td>\n",
       "      <td>yes</td>\n",
       "    </tr>\n",
       "    <tr>\n",
       "      <th>2</th>\n",
       "      <td>1st class</td>\n",
       "      <td>adults</td>\n",
       "      <td>man</td>\n",
       "      <td>yes</td>\n",
       "    </tr>\n",
       "    <tr>\n",
       "      <th>3</th>\n",
       "      <td>1st class</td>\n",
       "      <td>adults</td>\n",
       "      <td>man</td>\n",
       "      <td>yes</td>\n",
       "    </tr>\n",
       "    <tr>\n",
       "      <th>4</th>\n",
       "      <td>1st class</td>\n",
       "      <td>adults</td>\n",
       "      <td>man</td>\n",
       "      <td>yes</td>\n",
       "    </tr>\n",
       "    <tr>\n",
       "      <th>5</th>\n",
       "      <td>1st class</td>\n",
       "      <td>adults</td>\n",
       "      <td>man</td>\n",
       "      <td>yes</td>\n",
       "    </tr>\n",
       "  </tbody>\n",
       "</table>\n",
       "</div>"
      ],
      "text/plain": [
       "       class     age  sex survived\n",
       "1  1st class  adults  man      yes\n",
       "2  1st class  adults  man      yes\n",
       "3  1st class  adults  man      yes\n",
       "4  1st class  adults  man      yes\n",
       "5  1st class  adults  man      yes"
      ]
     },
     "execution_count": 63,
     "metadata": {},
     "output_type": "execute_result"
    }
   ],
   "source": [
    "titanic = data('titanic')"
   ]
  },
  {
   "cell_type": "code",
   "execution_count": 73,
   "id": "08640c2a-5d65-41e5-93fb-b9e22fc38d8c",
   "metadata": {},
   "outputs": [
    {
     "data": {
      "text/html": [
       "<div>\n",
       "<style scoped>\n",
       "    .dataframe tbody tr th:only-of-type {\n",
       "        vertical-align: middle;\n",
       "    }\n",
       "\n",
       "    .dataframe tbody tr th {\n",
       "        vertical-align: top;\n",
       "    }\n",
       "\n",
       "    .dataframe thead th {\n",
       "        text-align: right;\n",
       "    }\n",
       "</style>\n",
       "<table border=\"1\" class=\"dataframe\">\n",
       "  <thead>\n",
       "    <tr style=\"text-align: right;\">\n",
       "      <th></th>\n",
       "      <th>class_2nd class</th>\n",
       "      <th>class_3rd class</th>\n",
       "      <th>age_child</th>\n",
       "      <th>sex_women</th>\n",
       "      <th>survived_yes</th>\n",
       "    </tr>\n",
       "  </thead>\n",
       "  <tbody>\n",
       "    <tr>\n",
       "      <th>1</th>\n",
       "      <td>0</td>\n",
       "      <td>0</td>\n",
       "      <td>0</td>\n",
       "      <td>0</td>\n",
       "      <td>1</td>\n",
       "    </tr>\n",
       "    <tr>\n",
       "      <th>2</th>\n",
       "      <td>0</td>\n",
       "      <td>0</td>\n",
       "      <td>0</td>\n",
       "      <td>0</td>\n",
       "      <td>1</td>\n",
       "    </tr>\n",
       "    <tr>\n",
       "      <th>3</th>\n",
       "      <td>0</td>\n",
       "      <td>0</td>\n",
       "      <td>0</td>\n",
       "      <td>0</td>\n",
       "      <td>1</td>\n",
       "    </tr>\n",
       "    <tr>\n",
       "      <th>4</th>\n",
       "      <td>0</td>\n",
       "      <td>0</td>\n",
       "      <td>0</td>\n",
       "      <td>0</td>\n",
       "      <td>1</td>\n",
       "    </tr>\n",
       "    <tr>\n",
       "      <th>5</th>\n",
       "      <td>0</td>\n",
       "      <td>0</td>\n",
       "      <td>0</td>\n",
       "      <td>0</td>\n",
       "      <td>1</td>\n",
       "    </tr>\n",
       "  </tbody>\n",
       "</table>\n",
       "</div>"
      ],
      "text/plain": [
       "   class_2nd class  class_3rd class  age_child  sex_women  survived_yes\n",
       "1                0                0          0          0             1\n",
       "2                0                0          0          0             1\n",
       "3                0                0          0          0             1\n",
       "4                0                0          0          0             1\n",
       "5                0                0          0          0             1"
      ]
     },
     "execution_count": 73,
     "metadata": {},
     "output_type": "execute_result"
    }
   ],
   "source": [
    "titanic_enc = pd.get_dummies(titanic, drop_first=True)\n",
    "titanic_enc.head()"
   ]
  },
  {
   "cell_type": "code",
   "execution_count": 74,
   "id": "5a5742b2-b6b9-43ea-a9be-31a582cca8d5",
   "metadata": {},
   "outputs": [],
   "source": [
    "# create X and y\n",
    "X, y = titanic_enc.drop(columns='survived_yes'), titanic_enc.survived_yes"
   ]
  },
  {
   "cell_type": "code",
   "execution_count": 75,
   "id": "337dbaab-68aa-4940-9fd9-ccfe1d833b88",
   "metadata": {},
   "outputs": [],
   "source": [
    "# split the data into train and test (no validate needed here due to use of K-Fold Cross Validation)\n",
    "X_train, X_test, y_train, y_test = train_test_split(X, y, random_state=527)"
   ]
  },
  {
   "cell_type": "markdown",
   "id": "6460d2ab-c86b-422f-99f8-2d295526faf9",
   "metadata": {},
   "source": [
    "### DT"
   ]
  },
  {
   "cell_type": "code",
   "execution_count": 76,
   "id": "3e42a98b-dfd5-4dba-bcba-0d7e9144c44a",
   "metadata": {},
   "outputs": [
    {
     "data": {
      "text/plain": [
       "GridSearchCV(cv=10, estimator=DecisionTreeClassifier(random_state=527),\n",
       "             param_grid={'max_depth': range(1, 21),\n",
       "                         'min_samples_leaf': range(1, 11),\n",
       "                         'min_samples_split': range(1, 11)})"
      ]
     },
     "execution_count": 76,
     "metadata": {},
     "output_type": "execute_result"
    }
   ],
   "source": [
    "# Grid Search\n",
    "dt = DecisionTreeClassifier(random_state=527)\n",
    "grid = GridSearchCV(dt, {'max_depth': range(1, 21), 'min_samples_split': range(1, 11), 'min_samples_leaf': range(1, 11)}, cv=10)\n",
    "grid.fit(X_train, y_train)"
   ]
  },
  {
   "cell_type": "code",
   "execution_count": 77,
   "id": "5da89f40-5d0f-44cc-ab16-691741a8025f",
   "metadata": {},
   "outputs": [
    {
     "data": {
      "text/html": [
       "<div>\n",
       "<style scoped>\n",
       "    .dataframe tbody tr th:only-of-type {\n",
       "        vertical-align: middle;\n",
       "    }\n",
       "\n",
       "    .dataframe tbody tr th {\n",
       "        vertical-align: top;\n",
       "    }\n",
       "\n",
       "    .dataframe thead th {\n",
       "        text-align: right;\n",
       "    }\n",
       "</style>\n",
       "<table border=\"1\" class=\"dataframe\">\n",
       "  <thead>\n",
       "    <tr style=\"text-align: right;\">\n",
       "      <th></th>\n",
       "      <th>max_depth</th>\n",
       "      <th>min_samples_leaf</th>\n",
       "      <th>min_samples_split</th>\n",
       "      <th>score</th>\n",
       "    </tr>\n",
       "  </thead>\n",
       "  <tbody>\n",
       "    <tr>\n",
       "      <th>1001</th>\n",
       "      <td>11</td>\n",
       "      <td>1</td>\n",
       "      <td>2</td>\n",
       "      <td>0.799433</td>\n",
       "    </tr>\n",
       "    <tr>\n",
       "      <th>1714</th>\n",
       "      <td>18</td>\n",
       "      <td>2</td>\n",
       "      <td>5</td>\n",
       "      <td>0.799433</td>\n",
       "    </tr>\n",
       "    <tr>\n",
       "      <th>1106</th>\n",
       "      <td>12</td>\n",
       "      <td>1</td>\n",
       "      <td>7</td>\n",
       "      <td>0.799433</td>\n",
       "    </tr>\n",
       "    <tr>\n",
       "      <th>1105</th>\n",
       "      <td>12</td>\n",
       "      <td>1</td>\n",
       "      <td>6</td>\n",
       "      <td>0.799433</td>\n",
       "    </tr>\n",
       "    <tr>\n",
       "      <th>1104</th>\n",
       "      <td>12</td>\n",
       "      <td>1</td>\n",
       "      <td>5</td>\n",
       "      <td>0.799433</td>\n",
       "    </tr>\n",
       "  </tbody>\n",
       "</table>\n",
       "</div>"
      ],
      "text/plain": [
       "      max_depth  min_samples_leaf  min_samples_split     score\n",
       "1001         11                 1                  2  0.799433\n",
       "1714         18                 2                  5  0.799433\n",
       "1106         12                 1                  7  0.799433\n",
       "1105         12                 1                  6  0.799433\n",
       "1104         12                 1                  5  0.799433"
      ]
     },
     "execution_count": 77,
     "metadata": {},
     "output_type": "execute_result"
    }
   ],
   "source": [
    "results = pd.DataFrame(grid.cv_results_['params'])\n",
    "results['score'] = grid.cv_results_['mean_test_score']\n",
    "results.sort_values(by='score', ascending=False).head(5)"
   ]
  },
  {
   "cell_type": "code",
   "execution_count": 78,
   "id": "91867ad9-c39e-4f6d-adc9-fac92efd1ffa",
   "metadata": {},
   "outputs": [
    {
     "data": {
      "text/plain": [
       "0.78419452887538"
      ]
     },
     "execution_count": 78,
     "metadata": {},
     "output_type": "execute_result"
    }
   ],
   "source": [
    "best_dt = grid.best_estimator_\n",
    "best_dt.fit(X_train, y_train)\n",
    "best_dt.score(X_test, y_test)"
   ]
  },
  {
   "cell_type": "markdown",
   "id": "1219f67f-40e5-4ef7-ae5f-93876127b687",
   "metadata": {},
   "source": [
    "### RF"
   ]
  },
  {
   "cell_type": "code",
   "execution_count": 79,
   "id": "dc7153ce-c885-4900-b735-25e472a290a0",
   "metadata": {},
   "outputs": [
    {
     "data": {
      "text/plain": [
       "GridSearchCV(cv=10, estimator=RandomForestClassifier(random_state=527),\n",
       "             param_grid={'max_depth': range(1, 21)})"
      ]
     },
     "execution_count": 79,
     "metadata": {},
     "output_type": "execute_result"
    }
   ],
   "source": [
    "# Grid Search\n",
    "rf = RandomForestClassifier(random_state=527)\n",
    "grid = GridSearchCV(rf, {'max_depth': range(1, 21)}, cv=10)\n",
    "grid.fit(X_train, y_train)"
   ]
  },
  {
   "cell_type": "code",
   "execution_count": 80,
   "id": "6f5c3923-8e04-42b8-872e-66a80664577d",
   "metadata": {},
   "outputs": [
    {
     "data": {
      "text/html": [
       "<div>\n",
       "<style scoped>\n",
       "    .dataframe tbody tr th:only-of-type {\n",
       "        vertical-align: middle;\n",
       "    }\n",
       "\n",
       "    .dataframe tbody tr th {\n",
       "        vertical-align: top;\n",
       "    }\n",
       "\n",
       "    .dataframe thead th {\n",
       "        text-align: right;\n",
       "    }\n",
       "</style>\n",
       "<table border=\"1\" class=\"dataframe\">\n",
       "  <thead>\n",
       "    <tr style=\"text-align: right;\">\n",
       "      <th></th>\n",
       "      <th>max_depth</th>\n",
       "      <th>score</th>\n",
       "    </tr>\n",
       "  </thead>\n",
       "  <tbody>\n",
       "    <tr>\n",
       "      <th>2</th>\n",
       "      <td>3</td>\n",
       "      <td>0.799433</td>\n",
       "    </tr>\n",
       "    <tr>\n",
       "      <th>10</th>\n",
       "      <td>11</td>\n",
       "      <td>0.798423</td>\n",
       "    </tr>\n",
       "    <tr>\n",
       "      <th>11</th>\n",
       "      <td>12</td>\n",
       "      <td>0.798423</td>\n",
       "    </tr>\n",
       "    <tr>\n",
       "      <th>18</th>\n",
       "      <td>19</td>\n",
       "      <td>0.798423</td>\n",
       "    </tr>\n",
       "    <tr>\n",
       "      <th>17</th>\n",
       "      <td>18</td>\n",
       "      <td>0.798423</td>\n",
       "    </tr>\n",
       "  </tbody>\n",
       "</table>\n",
       "</div>"
      ],
      "text/plain": [
       "    max_depth     score\n",
       "2           3  0.799433\n",
       "10         11  0.798423\n",
       "11         12  0.798423\n",
       "18         19  0.798423\n",
       "17         18  0.798423"
      ]
     },
     "execution_count": 80,
     "metadata": {},
     "output_type": "execute_result"
    }
   ],
   "source": [
    "results = pd.DataFrame(grid.cv_results_['params'])\n",
    "results['score'] = grid.cv_results_['mean_test_score']\n",
    "results.sort_values(by='score', ascending=False).head(5)"
   ]
  },
  {
   "cell_type": "code",
   "execution_count": 81,
   "id": "05669958-b61b-47e5-93d1-7feb00387677",
   "metadata": {},
   "outputs": [
    {
     "data": {
      "text/plain": [
       "0.78419452887538"
      ]
     },
     "execution_count": 81,
     "metadata": {},
     "output_type": "execute_result"
    }
   ],
   "source": [
    "best_clf = grid.best_estimator_\n",
    "best_clf.fit(X_train, y_train)\n",
    "best_clf.score(X_test, y_test)"
   ]
  },
  {
   "cell_type": "markdown",
   "id": "349911ef-24c6-4a87-8c0e-b836134a265d",
   "metadata": {},
   "source": [
    "### KNN"
   ]
  },
  {
   "cell_type": "code",
   "execution_count": 82,
   "id": "e6fc9e7b-8b98-4384-98f6-81e5ca493bc7",
   "metadata": {},
   "outputs": [
    {
     "data": {
      "text/html": [
       "<div>\n",
       "<style scoped>\n",
       "    .dataframe tbody tr th:only-of-type {\n",
       "        vertical-align: middle;\n",
       "    }\n",
       "\n",
       "    .dataframe tbody tr th {\n",
       "        vertical-align: top;\n",
       "    }\n",
       "\n",
       "    .dataframe thead th {\n",
       "        text-align: right;\n",
       "    }\n",
       "</style>\n",
       "<table border=\"1\" class=\"dataframe\">\n",
       "  <thead>\n",
       "    <tr style=\"text-align: right;\">\n",
       "      <th></th>\n",
       "      <th>n_neighbors</th>\n",
       "      <th>score</th>\n",
       "    </tr>\n",
       "  </thead>\n",
       "  <tbody>\n",
       "    <tr>\n",
       "      <th>3</th>\n",
       "      <td>4</td>\n",
       "      <td>0.761873</td>\n",
       "    </tr>\n",
       "    <tr>\n",
       "      <th>4</th>\n",
       "      <td>5</td>\n",
       "      <td>0.749690</td>\n",
       "    </tr>\n",
       "    <tr>\n",
       "      <th>5</th>\n",
       "      <td>6</td>\n",
       "      <td>0.749690</td>\n",
       "    </tr>\n",
       "    <tr>\n",
       "      <th>2</th>\n",
       "      <td>3</td>\n",
       "      <td>0.748675</td>\n",
       "    </tr>\n",
       "    <tr>\n",
       "      <th>7</th>\n",
       "      <td>8</td>\n",
       "      <td>0.738579</td>\n",
       "    </tr>\n",
       "  </tbody>\n",
       "</table>\n",
       "</div>"
      ],
      "text/plain": [
       "   n_neighbors     score\n",
       "3            4  0.761873\n",
       "4            5  0.749690\n",
       "5            6  0.749690\n",
       "2            3  0.748675\n",
       "7            8  0.738579"
      ]
     },
     "execution_count": 82,
     "metadata": {},
     "output_type": "execute_result"
    }
   ],
   "source": [
    "# Grid Search\n",
    "clf = KNeighborsClassifier()\n",
    "grid = GridSearchCV(clf, {'n_neighbors': range(1, 21)}, cv=5)\n",
    "grid.fit(X_train, y_train)\n",
    "results = pd.DataFrame(grid.cv_results_['params'])\n",
    "results['score'] = grid.cv_results_['mean_test_score']\n",
    "results.sort_values(by='score', ascending=False).head(5)"
   ]
  },
  {
   "cell_type": "code",
   "execution_count": 83,
   "id": "59b73642-d8b8-4b42-9eda-2e96bf2705f3",
   "metadata": {},
   "outputs": [
    {
     "data": {
      "text/plain": [
       "0.7355623100303952"
      ]
     },
     "execution_count": 83,
     "metadata": {},
     "output_type": "execute_result"
    }
   ],
   "source": [
    "best_clf = grid.best_estimator_\n",
    "best_clf.fit(X_train, y_train)\n",
    "best_clf.score(X_test, y_test)"
   ]
  },
  {
   "cell_type": "markdown",
   "id": "05a31ae5-0a32-4d8e-9ca6-ddf9e7edf6de",
   "metadata": {},
   "source": [
    "### LR"
   ]
  },
  {
   "cell_type": "code",
   "execution_count": 84,
   "id": "e5b53c82-ea6d-4590-ab1b-a31389e8910b",
   "metadata": {},
   "outputs": [
    {
     "data": {
      "text/html": [
       "<div>\n",
       "<style scoped>\n",
       "    .dataframe tbody tr th:only-of-type {\n",
       "        vertical-align: middle;\n",
       "    }\n",
       "\n",
       "    .dataframe tbody tr th {\n",
       "        vertical-align: top;\n",
       "    }\n",
       "\n",
       "    .dataframe thead th {\n",
       "        text-align: right;\n",
       "    }\n",
       "</style>\n",
       "<table border=\"1\" class=\"dataframe\">\n",
       "  <thead>\n",
       "    <tr style=\"text-align: right;\">\n",
       "      <th></th>\n",
       "      <th>C</th>\n",
       "      <th>score</th>\n",
       "    </tr>\n",
       "  </thead>\n",
       "  <tbody>\n",
       "    <tr>\n",
       "      <th>49</th>\n",
       "      <td>5.0</td>\n",
       "      <td>0.77719</td>\n",
       "    </tr>\n",
       "    <tr>\n",
       "      <th>74</th>\n",
       "      <td>7.5</td>\n",
       "      <td>0.77719</td>\n",
       "    </tr>\n",
       "    <tr>\n",
       "      <th>72</th>\n",
       "      <td>7.3</td>\n",
       "      <td>0.77719</td>\n",
       "    </tr>\n",
       "    <tr>\n",
       "      <th>71</th>\n",
       "      <td>7.2</td>\n",
       "      <td>0.77719</td>\n",
       "    </tr>\n",
       "    <tr>\n",
       "      <th>70</th>\n",
       "      <td>7.1</td>\n",
       "      <td>0.77719</td>\n",
       "    </tr>\n",
       "  </tbody>\n",
       "</table>\n",
       "</div>"
      ],
      "text/plain": [
       "      C    score\n",
       "49  5.0  0.77719\n",
       "74  7.5  0.77719\n",
       "72  7.3  0.77719\n",
       "71  7.2  0.77719\n",
       "70  7.1  0.77719"
      ]
     },
     "execution_count": 84,
     "metadata": {},
     "output_type": "execute_result"
    }
   ],
   "source": [
    "# Grid Search\n",
    "clf = LogisticRegression()\n",
    "grid = GridSearchCV(clf, {'C': np.arange(0.1, 10, 0.1)}, cv=10)\n",
    "grid.fit(X_train, y_train)\n",
    "results = pd.DataFrame(grid.cv_results_['params'])\n",
    "results['score'] = grid.cv_results_['mean_test_score']\n",
    "results.sort_values(by='score', ascending=False).head(5)"
   ]
  },
  {
   "cell_type": "code",
   "execution_count": 85,
   "id": "482e1f67-358b-408c-9937-3e8b6a0e5353",
   "metadata": {},
   "outputs": [
    {
     "data": {
      "text/plain": [
       "0.7781155015197568"
      ]
     },
     "execution_count": 85,
     "metadata": {},
     "output_type": "execute_result"
    }
   ],
   "source": [
    "best_clf = grid.best_estimator_\n",
    "best_clf.fit(X_train, y_train)\n",
    "best_clf.score(X_test, y_test)"
   ]
  },
  {
   "cell_type": "markdown",
   "id": "66e22d8d-63b4-46ea-a3a7-412a96942cc6",
   "metadata": {},
   "source": [
    "---\n",
    "## `tips`"
   ]
  },
  {
   "cell_type": "markdown",
   "id": "3da49a8c-0cfe-4265-a2c6-084ac23e31d0",
   "metadata": {},
   "source": [
    "Use cross validation techniques to determine the best model for predicting tip amount with the tips dataset."
   ]
  },
  {
   "cell_type": "code",
   "execution_count": 86,
   "id": "6bffc0cc-9692-4834-be74-b78f7bbf038b",
   "metadata": {},
   "outputs": [
    {
     "data": {
      "text/html": [
       "<div>\n",
       "<style scoped>\n",
       "    .dataframe tbody tr th:only-of-type {\n",
       "        vertical-align: middle;\n",
       "    }\n",
       "\n",
       "    .dataframe tbody tr th {\n",
       "        vertical-align: top;\n",
       "    }\n",
       "\n",
       "    .dataframe thead th {\n",
       "        text-align: right;\n",
       "    }\n",
       "</style>\n",
       "<table border=\"1\" class=\"dataframe\">\n",
       "  <thead>\n",
       "    <tr style=\"text-align: right;\">\n",
       "      <th></th>\n",
       "      <th>total_bill</th>\n",
       "      <th>tip</th>\n",
       "      <th>sex</th>\n",
       "      <th>smoker</th>\n",
       "      <th>day</th>\n",
       "      <th>time</th>\n",
       "      <th>size</th>\n",
       "    </tr>\n",
       "  </thead>\n",
       "  <tbody>\n",
       "    <tr>\n",
       "      <th>1</th>\n",
       "      <td>16.99</td>\n",
       "      <td>1.01</td>\n",
       "      <td>Female</td>\n",
       "      <td>No</td>\n",
       "      <td>Sun</td>\n",
       "      <td>Dinner</td>\n",
       "      <td>2</td>\n",
       "    </tr>\n",
       "    <tr>\n",
       "      <th>2</th>\n",
       "      <td>10.34</td>\n",
       "      <td>1.66</td>\n",
       "      <td>Male</td>\n",
       "      <td>No</td>\n",
       "      <td>Sun</td>\n",
       "      <td>Dinner</td>\n",
       "      <td>3</td>\n",
       "    </tr>\n",
       "    <tr>\n",
       "      <th>3</th>\n",
       "      <td>21.01</td>\n",
       "      <td>3.50</td>\n",
       "      <td>Male</td>\n",
       "      <td>No</td>\n",
       "      <td>Sun</td>\n",
       "      <td>Dinner</td>\n",
       "      <td>3</td>\n",
       "    </tr>\n",
       "    <tr>\n",
       "      <th>4</th>\n",
       "      <td>23.68</td>\n",
       "      <td>3.31</td>\n",
       "      <td>Male</td>\n",
       "      <td>No</td>\n",
       "      <td>Sun</td>\n",
       "      <td>Dinner</td>\n",
       "      <td>2</td>\n",
       "    </tr>\n",
       "    <tr>\n",
       "      <th>5</th>\n",
       "      <td>24.59</td>\n",
       "      <td>3.61</td>\n",
       "      <td>Female</td>\n",
       "      <td>No</td>\n",
       "      <td>Sun</td>\n",
       "      <td>Dinner</td>\n",
       "      <td>4</td>\n",
       "    </tr>\n",
       "  </tbody>\n",
       "</table>\n",
       "</div>"
      ],
      "text/plain": [
       "   total_bill   tip     sex smoker  day    time  size\n",
       "1       16.99  1.01  Female     No  Sun  Dinner     2\n",
       "2       10.34  1.66    Male     No  Sun  Dinner     3\n",
       "3       21.01  3.50    Male     No  Sun  Dinner     3\n",
       "4       23.68  3.31    Male     No  Sun  Dinner     2\n",
       "5       24.59  3.61  Female     No  Sun  Dinner     4"
      ]
     },
     "execution_count": 86,
     "metadata": {},
     "output_type": "execute_result"
    }
   ],
   "source": [
    "tips = data('tips')\n",
    "tips.head()"
   ]
  },
  {
   "cell_type": "code",
   "execution_count": 87,
   "id": "295ac69e-342f-4579-a00f-d14dfd43aaea",
   "metadata": {},
   "outputs": [
    {
     "data": {
      "text/html": [
       "<div>\n",
       "<style scoped>\n",
       "    .dataframe tbody tr th:only-of-type {\n",
       "        vertical-align: middle;\n",
       "    }\n",
       "\n",
       "    .dataframe tbody tr th {\n",
       "        vertical-align: top;\n",
       "    }\n",
       "\n",
       "    .dataframe thead th {\n",
       "        text-align: right;\n",
       "    }\n",
       "</style>\n",
       "<table border=\"1\" class=\"dataframe\">\n",
       "  <thead>\n",
       "    <tr style=\"text-align: right;\">\n",
       "      <th></th>\n",
       "      <th>total_bill</th>\n",
       "      <th>tip</th>\n",
       "      <th>size</th>\n",
       "      <th>sex_Female</th>\n",
       "      <th>sex_Male</th>\n",
       "      <th>smoker_No</th>\n",
       "      <th>smoker_Yes</th>\n",
       "      <th>day_Fri</th>\n",
       "      <th>day_Sat</th>\n",
       "      <th>day_Sun</th>\n",
       "      <th>day_Thur</th>\n",
       "      <th>time_Dinner</th>\n",
       "      <th>time_Lunch</th>\n",
       "    </tr>\n",
       "  </thead>\n",
       "  <tbody>\n",
       "    <tr>\n",
       "      <th>1</th>\n",
       "      <td>16.99</td>\n",
       "      <td>1.01</td>\n",
       "      <td>2</td>\n",
       "      <td>1</td>\n",
       "      <td>0</td>\n",
       "      <td>1</td>\n",
       "      <td>0</td>\n",
       "      <td>0</td>\n",
       "      <td>0</td>\n",
       "      <td>1</td>\n",
       "      <td>0</td>\n",
       "      <td>1</td>\n",
       "      <td>0</td>\n",
       "    </tr>\n",
       "    <tr>\n",
       "      <th>2</th>\n",
       "      <td>10.34</td>\n",
       "      <td>1.66</td>\n",
       "      <td>3</td>\n",
       "      <td>0</td>\n",
       "      <td>1</td>\n",
       "      <td>1</td>\n",
       "      <td>0</td>\n",
       "      <td>0</td>\n",
       "      <td>0</td>\n",
       "      <td>1</td>\n",
       "      <td>0</td>\n",
       "      <td>1</td>\n",
       "      <td>0</td>\n",
       "    </tr>\n",
       "    <tr>\n",
       "      <th>3</th>\n",
       "      <td>21.01</td>\n",
       "      <td>3.50</td>\n",
       "      <td>3</td>\n",
       "      <td>0</td>\n",
       "      <td>1</td>\n",
       "      <td>1</td>\n",
       "      <td>0</td>\n",
       "      <td>0</td>\n",
       "      <td>0</td>\n",
       "      <td>1</td>\n",
       "      <td>0</td>\n",
       "      <td>1</td>\n",
       "      <td>0</td>\n",
       "    </tr>\n",
       "    <tr>\n",
       "      <th>4</th>\n",
       "      <td>23.68</td>\n",
       "      <td>3.31</td>\n",
       "      <td>2</td>\n",
       "      <td>0</td>\n",
       "      <td>1</td>\n",
       "      <td>1</td>\n",
       "      <td>0</td>\n",
       "      <td>0</td>\n",
       "      <td>0</td>\n",
       "      <td>1</td>\n",
       "      <td>0</td>\n",
       "      <td>1</td>\n",
       "      <td>0</td>\n",
       "    </tr>\n",
       "    <tr>\n",
       "      <th>5</th>\n",
       "      <td>24.59</td>\n",
       "      <td>3.61</td>\n",
       "      <td>4</td>\n",
       "      <td>1</td>\n",
       "      <td>0</td>\n",
       "      <td>1</td>\n",
       "      <td>0</td>\n",
       "      <td>0</td>\n",
       "      <td>0</td>\n",
       "      <td>1</td>\n",
       "      <td>0</td>\n",
       "      <td>1</td>\n",
       "      <td>0</td>\n",
       "    </tr>\n",
       "    <tr>\n",
       "      <th>...</th>\n",
       "      <td>...</td>\n",
       "      <td>...</td>\n",
       "      <td>...</td>\n",
       "      <td>...</td>\n",
       "      <td>...</td>\n",
       "      <td>...</td>\n",
       "      <td>...</td>\n",
       "      <td>...</td>\n",
       "      <td>...</td>\n",
       "      <td>...</td>\n",
       "      <td>...</td>\n",
       "      <td>...</td>\n",
       "      <td>...</td>\n",
       "    </tr>\n",
       "    <tr>\n",
       "      <th>240</th>\n",
       "      <td>29.03</td>\n",
       "      <td>5.92</td>\n",
       "      <td>3</td>\n",
       "      <td>0</td>\n",
       "      <td>1</td>\n",
       "      <td>1</td>\n",
       "      <td>0</td>\n",
       "      <td>0</td>\n",
       "      <td>1</td>\n",
       "      <td>0</td>\n",
       "      <td>0</td>\n",
       "      <td>1</td>\n",
       "      <td>0</td>\n",
       "    </tr>\n",
       "    <tr>\n",
       "      <th>241</th>\n",
       "      <td>27.18</td>\n",
       "      <td>2.00</td>\n",
       "      <td>2</td>\n",
       "      <td>1</td>\n",
       "      <td>0</td>\n",
       "      <td>0</td>\n",
       "      <td>1</td>\n",
       "      <td>0</td>\n",
       "      <td>1</td>\n",
       "      <td>0</td>\n",
       "      <td>0</td>\n",
       "      <td>1</td>\n",
       "      <td>0</td>\n",
       "    </tr>\n",
       "    <tr>\n",
       "      <th>242</th>\n",
       "      <td>22.67</td>\n",
       "      <td>2.00</td>\n",
       "      <td>2</td>\n",
       "      <td>0</td>\n",
       "      <td>1</td>\n",
       "      <td>0</td>\n",
       "      <td>1</td>\n",
       "      <td>0</td>\n",
       "      <td>1</td>\n",
       "      <td>0</td>\n",
       "      <td>0</td>\n",
       "      <td>1</td>\n",
       "      <td>0</td>\n",
       "    </tr>\n",
       "    <tr>\n",
       "      <th>243</th>\n",
       "      <td>17.82</td>\n",
       "      <td>1.75</td>\n",
       "      <td>2</td>\n",
       "      <td>0</td>\n",
       "      <td>1</td>\n",
       "      <td>1</td>\n",
       "      <td>0</td>\n",
       "      <td>0</td>\n",
       "      <td>1</td>\n",
       "      <td>0</td>\n",
       "      <td>0</td>\n",
       "      <td>1</td>\n",
       "      <td>0</td>\n",
       "    </tr>\n",
       "    <tr>\n",
       "      <th>244</th>\n",
       "      <td>18.78</td>\n",
       "      <td>3.00</td>\n",
       "      <td>2</td>\n",
       "      <td>1</td>\n",
       "      <td>0</td>\n",
       "      <td>1</td>\n",
       "      <td>0</td>\n",
       "      <td>0</td>\n",
       "      <td>0</td>\n",
       "      <td>0</td>\n",
       "      <td>1</td>\n",
       "      <td>1</td>\n",
       "      <td>0</td>\n",
       "    </tr>\n",
       "  </tbody>\n",
       "</table>\n",
       "<p>244 rows × 13 columns</p>\n",
       "</div>"
      ],
      "text/plain": [
       "     total_bill   tip  size  sex_Female  sex_Male  smoker_No  smoker_Yes  \\\n",
       "1         16.99  1.01     2           1         0          1           0   \n",
       "2         10.34  1.66     3           0         1          1           0   \n",
       "3         21.01  3.50     3           0         1          1           0   \n",
       "4         23.68  3.31     2           0         1          1           0   \n",
       "5         24.59  3.61     4           1         0          1           0   \n",
       "..          ...   ...   ...         ...       ...        ...         ...   \n",
       "240       29.03  5.92     3           0         1          1           0   \n",
       "241       27.18  2.00     2           1         0          0           1   \n",
       "242       22.67  2.00     2           0         1          0           1   \n",
       "243       17.82  1.75     2           0         1          1           0   \n",
       "244       18.78  3.00     2           1         0          1           0   \n",
       "\n",
       "     day_Fri  day_Sat  day_Sun  day_Thur  time_Dinner  time_Lunch  \n",
       "1          0        0        1         0            1           0  \n",
       "2          0        0        1         0            1           0  \n",
       "3          0        0        1         0            1           0  \n",
       "4          0        0        1         0            1           0  \n",
       "5          0        0        1         0            1           0  \n",
       "..       ...      ...      ...       ...          ...         ...  \n",
       "240        0        1        0         0            1           0  \n",
       "241        0        1        0         0            1           0  \n",
       "242        0        1        0         0            1           0  \n",
       "243        0        1        0         0            1           0  \n",
       "244        0        0        0         1            1           0  \n",
       "\n",
       "[244 rows x 13 columns]"
      ]
     },
     "execution_count": 87,
     "metadata": {},
     "output_type": "execute_result"
    }
   ],
   "source": [
    "pd.get_dummies(tips)"
   ]
  },
  {
   "cell_type": "code",
   "execution_count": null,
   "id": "47d65e79-668b-4b10-a56b-88da0d93f344",
   "metadata": {},
   "outputs": [],
   "source": []
  },
  {
   "cell_type": "code",
   "execution_count": null,
   "id": "ff301aa5-36db-4d60-9995-17cad843c9ef",
   "metadata": {},
   "outputs": [],
   "source": []
  },
  {
   "cell_type": "code",
   "execution_count": null,
   "id": "c149a1a9-c50d-41c4-9680-6844248a49fe",
   "metadata": {},
   "outputs": [],
   "source": []
  },
  {
   "cell_type": "code",
   "execution_count": null,
   "id": "67e9fc0e-c01a-4c3c-b4fb-9bee7769a2ec",
   "metadata": {},
   "outputs": [],
   "source": []
  },
  {
   "cell_type": "code",
   "execution_count": 74,
   "id": "266467f3-1542-4a8b-b6f3-5c67601549ed",
   "metadata": {},
   "outputs": [],
   "source": [
    "# create X and y\n",
    "X, y = titanic_enc.drop(columns='survived_yes'), titanic_enc.survived_yes"
   ]
  },
  {
   "cell_type": "code",
   "execution_count": 75,
   "id": "fdd5a4be-a697-40c7-b769-a476caa502b4",
   "metadata": {},
   "outputs": [],
   "source": [
    "# split the data into train and test (no validate needed here due to use of K-Fold Cross Validation)\n",
    "X_train, X_test, y_train, y_test = train_test_split(X, y, random_state=527)"
   ]
  },
  {
   "cell_type": "markdown",
   "id": "5441a244-a89f-400b-928b-e4fdb3892289",
   "metadata": {},
   "source": [
    "### DT"
   ]
  },
  {
   "cell_type": "code",
   "execution_count": 76,
   "id": "4f5de4e4-0542-4823-bcc4-76c51ceda46b",
   "metadata": {},
   "outputs": [
    {
     "data": {
      "text/plain": [
       "GridSearchCV(cv=10, estimator=DecisionTreeClassifier(random_state=527),\n",
       "             param_grid={'max_depth': range(1, 21),\n",
       "                         'min_samples_leaf': range(1, 11),\n",
       "                         'min_samples_split': range(1, 11)})"
      ]
     },
     "execution_count": 76,
     "metadata": {},
     "output_type": "execute_result"
    }
   ],
   "source": [
    "# Grid Search\n",
    "dt = DecisionTreeClassifier(random_state=527)\n",
    "grid = GridSearchCV(dt, {'max_depth': range(1, 21), 'min_samples_split': range(1, 11), 'min_samples_leaf': range(1, 11)}, cv=10)\n",
    "grid.fit(X_train, y_train)"
   ]
  },
  {
   "cell_type": "code",
   "execution_count": 77,
   "id": "73855ece-8bf0-49fa-b28f-69a4d4b346d0",
   "metadata": {},
   "outputs": [
    {
     "data": {
      "text/html": [
       "<div>\n",
       "<style scoped>\n",
       "    .dataframe tbody tr th:only-of-type {\n",
       "        vertical-align: middle;\n",
       "    }\n",
       "\n",
       "    .dataframe tbody tr th {\n",
       "        vertical-align: top;\n",
       "    }\n",
       "\n",
       "    .dataframe thead th {\n",
       "        text-align: right;\n",
       "    }\n",
       "</style>\n",
       "<table border=\"1\" class=\"dataframe\">\n",
       "  <thead>\n",
       "    <tr style=\"text-align: right;\">\n",
       "      <th></th>\n",
       "      <th>max_depth</th>\n",
       "      <th>min_samples_leaf</th>\n",
       "      <th>min_samples_split</th>\n",
       "      <th>score</th>\n",
       "    </tr>\n",
       "  </thead>\n",
       "  <tbody>\n",
       "    <tr>\n",
       "      <th>1001</th>\n",
       "      <td>11</td>\n",
       "      <td>1</td>\n",
       "      <td>2</td>\n",
       "      <td>0.799433</td>\n",
       "    </tr>\n",
       "    <tr>\n",
       "      <th>1714</th>\n",
       "      <td>18</td>\n",
       "      <td>2</td>\n",
       "      <td>5</td>\n",
       "      <td>0.799433</td>\n",
       "    </tr>\n",
       "    <tr>\n",
       "      <th>1106</th>\n",
       "      <td>12</td>\n",
       "      <td>1</td>\n",
       "      <td>7</td>\n",
       "      <td>0.799433</td>\n",
       "    </tr>\n",
       "    <tr>\n",
       "      <th>1105</th>\n",
       "      <td>12</td>\n",
       "      <td>1</td>\n",
       "      <td>6</td>\n",
       "      <td>0.799433</td>\n",
       "    </tr>\n",
       "    <tr>\n",
       "      <th>1104</th>\n",
       "      <td>12</td>\n",
       "      <td>1</td>\n",
       "      <td>5</td>\n",
       "      <td>0.799433</td>\n",
       "    </tr>\n",
       "  </tbody>\n",
       "</table>\n",
       "</div>"
      ],
      "text/plain": [
       "      max_depth  min_samples_leaf  min_samples_split     score\n",
       "1001         11                 1                  2  0.799433\n",
       "1714         18                 2                  5  0.799433\n",
       "1106         12                 1                  7  0.799433\n",
       "1105         12                 1                  6  0.799433\n",
       "1104         12                 1                  5  0.799433"
      ]
     },
     "execution_count": 77,
     "metadata": {},
     "output_type": "execute_result"
    }
   ],
   "source": [
    "results = pd.DataFrame(grid.cv_results_['params'])\n",
    "results['score'] = grid.cv_results_['mean_test_score']\n",
    "results.sort_values(by='score', ascending=False).head(5)"
   ]
  },
  {
   "cell_type": "code",
   "execution_count": 78,
   "id": "8cc98303-99f3-4dc2-917e-b1a4ea36cc59",
   "metadata": {},
   "outputs": [
    {
     "data": {
      "text/plain": [
       "0.78419452887538"
      ]
     },
     "execution_count": 78,
     "metadata": {},
     "output_type": "execute_result"
    }
   ],
   "source": [
    "best_dt = grid.best_estimator_\n",
    "best_dt.fit(X_train, y_train)\n",
    "best_dt.score(X_test, y_test)"
   ]
  },
  {
   "cell_type": "markdown",
   "id": "c0f21284-ce90-4610-96d3-5670c74d7ca3",
   "metadata": {},
   "source": [
    "### RF"
   ]
  },
  {
   "cell_type": "code",
   "execution_count": 79,
   "id": "42dfeab1-3b3d-4bd5-9d83-83ea7fd0999f",
   "metadata": {},
   "outputs": [
    {
     "data": {
      "text/plain": [
       "GridSearchCV(cv=10, estimator=RandomForestClassifier(random_state=527),\n",
       "             param_grid={'max_depth': range(1, 21)})"
      ]
     },
     "execution_count": 79,
     "metadata": {},
     "output_type": "execute_result"
    }
   ],
   "source": [
    "# Grid Search\n",
    "rf = RandomForestClassifier(random_state=527)\n",
    "grid = GridSearchCV(rf, {'max_depth': range(1, 21)}, cv=10)\n",
    "grid.fit(X_train, y_train)"
   ]
  },
  {
   "cell_type": "code",
   "execution_count": 80,
   "id": "6c844f9a-7cef-4e2b-a7d0-d72cee5cba7d",
   "metadata": {},
   "outputs": [
    {
     "data": {
      "text/html": [
       "<div>\n",
       "<style scoped>\n",
       "    .dataframe tbody tr th:only-of-type {\n",
       "        vertical-align: middle;\n",
       "    }\n",
       "\n",
       "    .dataframe tbody tr th {\n",
       "        vertical-align: top;\n",
       "    }\n",
       "\n",
       "    .dataframe thead th {\n",
       "        text-align: right;\n",
       "    }\n",
       "</style>\n",
       "<table border=\"1\" class=\"dataframe\">\n",
       "  <thead>\n",
       "    <tr style=\"text-align: right;\">\n",
       "      <th></th>\n",
       "      <th>max_depth</th>\n",
       "      <th>score</th>\n",
       "    </tr>\n",
       "  </thead>\n",
       "  <tbody>\n",
       "    <tr>\n",
       "      <th>2</th>\n",
       "      <td>3</td>\n",
       "      <td>0.799433</td>\n",
       "    </tr>\n",
       "    <tr>\n",
       "      <th>10</th>\n",
       "      <td>11</td>\n",
       "      <td>0.798423</td>\n",
       "    </tr>\n",
       "    <tr>\n",
       "      <th>11</th>\n",
       "      <td>12</td>\n",
       "      <td>0.798423</td>\n",
       "    </tr>\n",
       "    <tr>\n",
       "      <th>18</th>\n",
       "      <td>19</td>\n",
       "      <td>0.798423</td>\n",
       "    </tr>\n",
       "    <tr>\n",
       "      <th>17</th>\n",
       "      <td>18</td>\n",
       "      <td>0.798423</td>\n",
       "    </tr>\n",
       "  </tbody>\n",
       "</table>\n",
       "</div>"
      ],
      "text/plain": [
       "    max_depth     score\n",
       "2           3  0.799433\n",
       "10         11  0.798423\n",
       "11         12  0.798423\n",
       "18         19  0.798423\n",
       "17         18  0.798423"
      ]
     },
     "execution_count": 80,
     "metadata": {},
     "output_type": "execute_result"
    }
   ],
   "source": [
    "results = pd.DataFrame(grid.cv_results_['params'])\n",
    "results['score'] = grid.cv_results_['mean_test_score']\n",
    "results.sort_values(by='score', ascending=False).head(5)"
   ]
  },
  {
   "cell_type": "code",
   "execution_count": 81,
   "id": "ea49e016-1be6-4a99-a282-831062758bd2",
   "metadata": {},
   "outputs": [
    {
     "data": {
      "text/plain": [
       "0.78419452887538"
      ]
     },
     "execution_count": 81,
     "metadata": {},
     "output_type": "execute_result"
    }
   ],
   "source": [
    "best_clf = grid.best_estimator_\n",
    "best_clf.fit(X_train, y_train)\n",
    "best_clf.score(X_test, y_test)"
   ]
  },
  {
   "cell_type": "markdown",
   "id": "d2c88599-10e3-4984-a2a4-66e4f20b3793",
   "metadata": {},
   "source": [
    "### KNN"
   ]
  },
  {
   "cell_type": "code",
   "execution_count": 82,
   "id": "a0dde1b0-74bd-411c-8804-7cbd4322f079",
   "metadata": {},
   "outputs": [
    {
     "data": {
      "text/html": [
       "<div>\n",
       "<style scoped>\n",
       "    .dataframe tbody tr th:only-of-type {\n",
       "        vertical-align: middle;\n",
       "    }\n",
       "\n",
       "    .dataframe tbody tr th {\n",
       "        vertical-align: top;\n",
       "    }\n",
       "\n",
       "    .dataframe thead th {\n",
       "        text-align: right;\n",
       "    }\n",
       "</style>\n",
       "<table border=\"1\" class=\"dataframe\">\n",
       "  <thead>\n",
       "    <tr style=\"text-align: right;\">\n",
       "      <th></th>\n",
       "      <th>n_neighbors</th>\n",
       "      <th>score</th>\n",
       "    </tr>\n",
       "  </thead>\n",
       "  <tbody>\n",
       "    <tr>\n",
       "      <th>3</th>\n",
       "      <td>4</td>\n",
       "      <td>0.761873</td>\n",
       "    </tr>\n",
       "    <tr>\n",
       "      <th>4</th>\n",
       "      <td>5</td>\n",
       "      <td>0.749690</td>\n",
       "    </tr>\n",
       "    <tr>\n",
       "      <th>5</th>\n",
       "      <td>6</td>\n",
       "      <td>0.749690</td>\n",
       "    </tr>\n",
       "    <tr>\n",
       "      <th>2</th>\n",
       "      <td>3</td>\n",
       "      <td>0.748675</td>\n",
       "    </tr>\n",
       "    <tr>\n",
       "      <th>7</th>\n",
       "      <td>8</td>\n",
       "      <td>0.738579</td>\n",
       "    </tr>\n",
       "  </tbody>\n",
       "</table>\n",
       "</div>"
      ],
      "text/plain": [
       "   n_neighbors     score\n",
       "3            4  0.761873\n",
       "4            5  0.749690\n",
       "5            6  0.749690\n",
       "2            3  0.748675\n",
       "7            8  0.738579"
      ]
     },
     "execution_count": 82,
     "metadata": {},
     "output_type": "execute_result"
    }
   ],
   "source": [
    "# Grid Search\n",
    "clf = KNeighborsClassifier()\n",
    "grid = GridSearchCV(clf, {'n_neighbors': range(1, 21)}, cv=5)\n",
    "grid.fit(X_train, y_train)\n",
    "results = pd.DataFrame(grid.cv_results_['params'])\n",
    "results['score'] = grid.cv_results_['mean_test_score']\n",
    "results.sort_values(by='score', ascending=False).head(5)"
   ]
  },
  {
   "cell_type": "code",
   "execution_count": 83,
   "id": "cb181748-c914-4108-8d63-506f72a003c6",
   "metadata": {},
   "outputs": [
    {
     "data": {
      "text/plain": [
       "0.7355623100303952"
      ]
     },
     "execution_count": 83,
     "metadata": {},
     "output_type": "execute_result"
    }
   ],
   "source": [
    "best_clf = grid.best_estimator_\n",
    "best_clf.fit(X_train, y_train)\n",
    "best_clf.score(X_test, y_test)"
   ]
  },
  {
   "cell_type": "markdown",
   "id": "56f30143-23d5-4992-91ee-acf5d781a35d",
   "metadata": {},
   "source": [
    "### LR"
   ]
  },
  {
   "cell_type": "code",
   "execution_count": 84,
   "id": "187319f3-460a-4edb-8fa6-692f5604b2a5",
   "metadata": {},
   "outputs": [
    {
     "data": {
      "text/html": [
       "<div>\n",
       "<style scoped>\n",
       "    .dataframe tbody tr th:only-of-type {\n",
       "        vertical-align: middle;\n",
       "    }\n",
       "\n",
       "    .dataframe tbody tr th {\n",
       "        vertical-align: top;\n",
       "    }\n",
       "\n",
       "    .dataframe thead th {\n",
       "        text-align: right;\n",
       "    }\n",
       "</style>\n",
       "<table border=\"1\" class=\"dataframe\">\n",
       "  <thead>\n",
       "    <tr style=\"text-align: right;\">\n",
       "      <th></th>\n",
       "      <th>C</th>\n",
       "      <th>score</th>\n",
       "    </tr>\n",
       "  </thead>\n",
       "  <tbody>\n",
       "    <tr>\n",
       "      <th>49</th>\n",
       "      <td>5.0</td>\n",
       "      <td>0.77719</td>\n",
       "    </tr>\n",
       "    <tr>\n",
       "      <th>74</th>\n",
       "      <td>7.5</td>\n",
       "      <td>0.77719</td>\n",
       "    </tr>\n",
       "    <tr>\n",
       "      <th>72</th>\n",
       "      <td>7.3</td>\n",
       "      <td>0.77719</td>\n",
       "    </tr>\n",
       "    <tr>\n",
       "      <th>71</th>\n",
       "      <td>7.2</td>\n",
       "      <td>0.77719</td>\n",
       "    </tr>\n",
       "    <tr>\n",
       "      <th>70</th>\n",
       "      <td>7.1</td>\n",
       "      <td>0.77719</td>\n",
       "    </tr>\n",
       "  </tbody>\n",
       "</table>\n",
       "</div>"
      ],
      "text/plain": [
       "      C    score\n",
       "49  5.0  0.77719\n",
       "74  7.5  0.77719\n",
       "72  7.3  0.77719\n",
       "71  7.2  0.77719\n",
       "70  7.1  0.77719"
      ]
     },
     "execution_count": 84,
     "metadata": {},
     "output_type": "execute_result"
    }
   ],
   "source": [
    "# Grid Search\n",
    "clf = LogisticRegression()\n",
    "grid = GridSearchCV(clf, {'C': np.arange(0.1, 10, 0.1)}, cv=10)\n",
    "grid.fit(X_train, y_train)\n",
    "results = pd.DataFrame(grid.cv_results_['params'])\n",
    "results['score'] = grid.cv_results_['mean_test_score']\n",
    "results.sort_values(by='score', ascending=False).head(5)"
   ]
  },
  {
   "cell_type": "code",
   "execution_count": 85,
   "id": "591cbb40-99df-4356-b236-d449116b4a04",
   "metadata": {},
   "outputs": [
    {
     "data": {
      "text/plain": [
       "0.7781155015197568"
      ]
     },
     "execution_count": 85,
     "metadata": {},
     "output_type": "execute_result"
    }
   ],
   "source": [
    "best_clf = grid.best_estimator_\n",
    "best_clf.fit(X_train, y_train)\n",
    "best_clf.score(X_test, y_test)"
   ]
  },
  {
   "cell_type": "code",
   "execution_count": null,
   "id": "1758c6fb-8012-4012-9b9e-0a3a879df08b",
   "metadata": {},
   "outputs": [],
   "source": []
  }
 ],
 "metadata": {
  "kernelspec": {
   "display_name": "Python 3",
   "language": "python",
   "name": "python3"
  },
  "language_info": {
   "codemirror_mode": {
    "name": "ipython",
    "version": 3
   },
   "file_extension": ".py",
   "mimetype": "text/x-python",
   "name": "python",
   "nbconvert_exporter": "python",
   "pygments_lexer": "ipython3",
   "version": "3.8.8"
  }
 },
 "nbformat": 4,
 "nbformat_minor": 5
}
